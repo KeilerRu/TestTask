{
 "cells": [
  {
   "cell_type": "code",
   "execution_count": 6,
   "id": "0271cafb",
   "metadata": {},
   "outputs": [],
   "source": [
    "import numpy as np\n",
    "import pandas as pd\n"
   ]
  },
  {
   "cell_type": "code",
   "execution_count": 7,
   "id": "689deb52",
   "metadata": {},
   "outputs": [],
   "source": [
    "data = pd.read_csv('adult.data.csv')"
   ]
  },
  {
   "cell_type": "markdown",
   "id": "b68dea3b",
   "metadata": {},
   "source": [
    "## 1.Сколько мужчин и женщин (признак sex) представлено в этом наборе данных?"
   ]
  },
  {
   "cell_type": "code",
   "execution_count": 8,
   "id": "7b160df1",
   "metadata": {},
   "outputs": [
    {
     "data": {
      "text/plain": [
       "Male      21790\n",
       "Female    10771\n",
       "Name: sex, dtype: int64"
      ]
     },
     "execution_count": 8,
     "metadata": {},
     "output_type": "execute_result"
    }
   ],
   "source": [
    "data['sex'].value_counts()"
   ]
  },
  {
   "cell_type": "markdown",
   "id": "79fafe19",
   "metadata": {},
   "source": [
    "## 2. Каков средний возраст (признак age) женщин?"
   ]
  },
  {
   "cell_type": "code",
   "execution_count": 9,
   "id": "9d77dd29",
   "metadata": {},
   "outputs": [
    {
     "data": {
      "text/plain": [
       "36.85823043357163"
      ]
     },
     "execution_count": 9,
     "metadata": {},
     "output_type": "execute_result"
    }
   ],
   "source": [
    "data[data['sex'] == 'Female']['age'].mean()"
   ]
  },
  {
   "cell_type": "markdown",
   "id": "20f975c7",
   "metadata": {},
   "source": [
    "## 3. Какова доля граждан Германии (признак native-country)?"
   ]
  },
  {
   "cell_type": "code",
   "execution_count": 10,
   "id": "44e57049",
   "metadata": {},
   "outputs": [
    {
     "data": {
      "text/plain": [
       "0.004207487485028101"
      ]
     },
     "execution_count": 10,
     "metadata": {},
     "output_type": "execute_result"
    }
   ],
   "source": [
    "data[data['native-country'] == 'Germany']['native-country'].count() / data.shape[0]"
   ]
  },
  {
   "cell_type": "markdown",
   "id": "262c2368",
   "metadata": {},
   "source": [
    "\n",
    "## 4-5. Каковы средние значения и среднеквадратичные отклонения возраста тех, кто получает более 50K в год (признак salary) и тех, кто получает менее 50K в год?"
   ]
  },
  {
   "cell_type": "code",
   "execution_count": 48,
   "id": "d2dd044a",
   "metadata": {},
   "outputs": [
    {
     "name": "stdout",
     "output_type": "stream",
     "text": [
      ">50K mean:  44.24984058155847 std:  10.51902771985177\n",
      "<=50K mean: 36.78373786407767 std 14.020088490824813\n"
     ]
    }
   ],
   "source": [
    "print('>50K mean: ', data[data['salary'] == '>50K']['age'].mean(), 'std: ', data[data['salary'] == '>50K']['age'].std())\n",
    "print('<=50K mean:', data[data['salary'] == '<=50K']['age'].mean(), 'std', data[data['salary'] == '<=50K']['age'].std())"
   ]
  },
  {
   "cell_type": "markdown",
   "id": "5a0ee4a5",
   "metadata": {},
   "source": [
    "## 6. Правда ли, что люди, которые получают больше 50k, имеют как минимум высшее образование? (признак education – Bachelors, Prof-school, Assoc-acdm, Assoc-voc, Masters или Doctorate)"
   ]
  },
  {
   "cell_type": "code",
   "execution_count": 54,
   "id": "5b6bf522",
   "metadata": {},
   "outputs": [
    {
     "name": "stdout",
     "output_type": "stream",
     "text": [
      "3667\n"
     ]
    }
   ],
   "source": [
    "print(\n",
    "    data[(data['salary'] == '>50K') &\n",
    "         (data['education'] != 'Bachelors') &\n",
    "         (data['education'] != 'Prof-school') &\n",
    "         (data['education'] != 'Assoc-acdm') & (data['education'] != 'Masters') &\n",
    "         (data['education'] != 'Doctorate') ]['education'].count()\n",
    ")\n",
    "# Не правда. Число богатых людей с образованием меньше высшего - не нулевое"
   ]
  },
  {
   "cell_type": "markdown",
   "id": "69426e73",
   "metadata": {},
   "source": [
    "## 7. Выведите статистику возраста для каждой расы (признак race) и каждого пола. Используйте groupby и describe. Найдите таким образом максимальный возраст мужчин расы Amer-Indian-Eskimo."
   ]
  },
  {
   "cell_type": "code",
   "execution_count": 164,
   "id": "85f2a687",
   "metadata": {},
   "outputs": [
    {
     "name": "stdout",
     "output_type": "stream",
     "text": [
      "('Amer-Indian-Eskimo', 'Female')\n",
      "count    119.000000\n",
      "mean      37.117647\n",
      "std       13.114991\n",
      "min       17.000000\n",
      "25%       27.000000\n",
      "50%       36.000000\n",
      "75%       46.000000\n",
      "max       80.000000\n",
      "Name: age, dtype: float64\n",
      "('Amer-Indian-Eskimo', 'Male')\n",
      "count    192.000000\n",
      "mean      37.208333\n",
      "std       12.049563\n",
      "min       17.000000\n",
      "25%       28.000000\n",
      "50%       35.000000\n",
      "75%       45.000000\n",
      "max       82.000000\n",
      "Name: age, dtype: float64\n",
      "('Asian-Pac-Islander', 'Female')\n",
      "count    346.000000\n",
      "mean      35.089595\n",
      "std       12.300845\n",
      "min       17.000000\n",
      "25%       25.000000\n",
      "50%       33.000000\n",
      "75%       43.750000\n",
      "max       75.000000\n",
      "Name: age, dtype: float64\n",
      "('Asian-Pac-Islander', 'Male')\n",
      "count    693.000000\n",
      "mean      39.073593\n",
      "std       12.883944\n",
      "min       18.000000\n",
      "25%       29.000000\n",
      "50%       37.000000\n",
      "75%       46.000000\n",
      "max       90.000000\n",
      "Name: age, dtype: float64\n",
      "('Black', 'Female')\n",
      "count    1555.000000\n",
      "mean       37.854019\n",
      "std        12.637197\n",
      "min        17.000000\n",
      "25%        28.000000\n",
      "50%        37.000000\n",
      "75%        46.000000\n",
      "max        90.000000\n",
      "Name: age, dtype: float64\n",
      "('Black', 'Male')\n",
      "count    1569.000000\n",
      "mean       37.682600\n",
      "std        12.882612\n",
      "min        17.000000\n",
      "25%        27.000000\n",
      "50%        36.000000\n",
      "75%        46.000000\n",
      "max        90.000000\n",
      "Name: age, dtype: float64\n",
      "('Other', 'Female')\n",
      "count    109.000000\n",
      "mean      31.678899\n",
      "std       11.631599\n",
      "min       17.000000\n",
      "25%       23.000000\n",
      "50%       29.000000\n",
      "75%       39.000000\n",
      "max       74.000000\n",
      "Name: age, dtype: float64\n",
      "('Other', 'Male')\n",
      "count    162.000000\n",
      "mean      34.654321\n",
      "std       11.355531\n",
      "min       17.000000\n",
      "25%       26.000000\n",
      "50%       32.000000\n",
      "75%       42.000000\n",
      "max       77.000000\n",
      "Name: age, dtype: float64\n",
      "('White', 'Female')\n",
      "count    8642.000000\n",
      "mean       36.811618\n",
      "std        14.329093\n",
      "min        17.000000\n",
      "25%        25.000000\n",
      "50%        35.000000\n",
      "75%        46.000000\n",
      "max        90.000000\n",
      "Name: age, dtype: float64\n",
      "('White', 'Male')\n",
      "count    19174.000000\n",
      "mean        39.652498\n",
      "std         13.436029\n",
      "min         17.000000\n",
      "25%         29.000000\n",
      "50%         38.000000\n",
      "75%         49.000000\n",
      "max         90.000000\n",
      "Name: age, dtype: float64\n"
     ]
    }
   ],
   "source": [
    "for look, sub_df in data.groupby(['race','sex']):\n",
    "    print(look)\n",
    "    print(sub_df['age'].describe())"
   ]
  },
  {
   "cell_type": "markdown",
   "id": "2faf9697",
   "metadata": {},
   "source": [
    "## 8. Среди кого больше доля зарабатывающих много (>50K): среди женатых или холостых мужчин (признак marital-status)? Женатыми считаем тех, у кого marital-status начинается с Married (Married-civ-spouse, Married-spouse-absent или Married-AF-spouse), остальных считаем холостыми."
   ]
  },
  {
   "cell_type": "code",
   "execution_count": 38,
   "id": "f34d4492",
   "metadata": {},
   "outputs": [
    {
     "name": "stdout",
     "output_type": "stream",
     "text": [
      "Женатый\n",
      "0.4405139945351156\n",
      "Холост\n",
      "0.08449509031397745\n"
     ]
    }
   ],
   "source": [
    "data['is_married'] = (\n",
    "    (data['marital-status'] == 'Married-civ-spouse') | \n",
    "    (data['marital-status'] == 'Married-spouse-absent') | \n",
    "    (data['marital-status'] == 'Married-AF-spouse')\n",
    ")\n",
    "data['is_married']=data['is_married'].map({ True: 'Женатый', False : 'Холост'})\n",
    "for look, sub_df in data.groupby('is_married'):\n",
    "    print(look)\n",
    "    print(\n",
    "        sub_df[(sub_df['salary'] == '>50K') & (sub_df['sex'] == 'Male')]['salary'].count() /\n",
    "        sub_df[(sub_df['sex'] == 'Male')]['salary'].count()\n",
    "    )"
   ]
  },
  {
   "cell_type": "markdown",
   "id": "3100e07d",
   "metadata": {},
   "source": [
    "## 9. Какое максимальное число часов человек работает в неделю (признак hours-per-week)? Сколько людей работают такое количество часов и каков среди них процент зарабатывающих много?"
   ]
  },
  {
   "cell_type": "code",
   "execution_count": 47,
   "id": "433891f4",
   "metadata": {},
   "outputs": [
    {
     "name": "stdout",
     "output_type": "stream",
     "text": [
      "Максимальное число рабочих часов: 99\n",
      "Число людей работающих столько часов: 85\n",
      "Процент богатых людей: 29.411764705882355%\n"
     ]
    }
   ],
   "source": [
    "print('Максимальное число рабочих часов:',data['hours-per-week'].max())\n",
    "num_workers = data[data['hours-per-week'] == data['hours-per-week'].max()]['hours-per-week'].count()\n",
    "num_rich = data[(data['hours-per-week'] == data['hours-per-week'].max()) & (data['salary'] == '>50K')]['hours-per-week'].count()\n",
    "print('Число людей работающих столько часов:', num_workers)\n",
    "print('Процент богатых людей: ', num_rich / num_workers * 100, '%', sep='')"
   ]
  },
  {
   "cell_type": "markdown",
   "id": "78ada9bc",
   "metadata": {},
   "source": [
    "## 10. Посчитайте среднее время работы (hours-per-week) зарабатывающих мало и много (salary) для каждой страны (native-country).\n"
   ]
  },
  {
   "cell_type": "code",
   "execution_count": 56,
   "id": "2ebf079a",
   "metadata": {},
   "outputs": [
    {
     "name": "stdout",
     "output_type": "stream",
     "text": [
      "<=50K ?\n",
      "40.16475972540046\n",
      "<=50K Cambodia\n",
      "41.416666666666664\n",
      "<=50K Canada\n",
      "37.91463414634146\n",
      "<=50K China\n",
      "37.38181818181818\n",
      "<=50K Columbia\n",
      "38.68421052631579\n",
      "<=50K Cuba\n",
      "37.98571428571429\n",
      "<=50K Dominican-Republic\n",
      "42.338235294117645\n",
      "<=50K Ecuador\n",
      "38.041666666666664\n",
      "<=50K El-Salvador\n",
      "36.03092783505155\n",
      "<=50K England\n",
      "40.483333333333334\n",
      "<=50K France\n",
      "41.05882352941177\n",
      "<=50K Germany\n",
      "39.13978494623656\n",
      "<=50K Greece\n",
      "41.80952380952381\n",
      "<=50K Guatemala\n",
      "39.36065573770492\n",
      "<=50K Haiti\n",
      "36.325\n",
      "<=50K Holand-Netherlands\n",
      "40.0\n",
      "<=50K Honduras\n",
      "34.333333333333336\n",
      "<=50K Hong\n",
      "39.142857142857146\n",
      "<=50K Hungary\n",
      "31.3\n",
      "<=50K India\n",
      "38.233333333333334\n",
      "<=50K Iran\n",
      "41.44\n",
      "<=50K Ireland\n",
      "40.94736842105263\n",
      "<=50K Italy\n",
      "39.625\n",
      "<=50K Jamaica\n",
      "38.23943661971831\n",
      "<=50K Japan\n",
      "41.0\n",
      "<=50K Laos\n",
      "40.375\n",
      "<=50K Mexico\n",
      "40.00327868852459\n",
      "<=50K Nicaragua\n",
      "36.09375\n",
      "<=50K Outlying-US(Guam-USVI-etc)\n",
      "41.857142857142854\n",
      "<=50K Peru\n",
      "35.06896551724138\n",
      "<=50K Philippines\n",
      "38.065693430656935\n",
      "<=50K Poland\n",
      "38.166666666666664\n",
      "<=50K Portugal\n",
      "41.93939393939394\n",
      "<=50K Puerto-Rico\n",
      "38.470588235294116\n",
      "<=50K Scotland\n",
      "39.44444444444444\n",
      "<=50K South\n",
      "40.15625\n",
      "<=50K Taiwan\n",
      "33.774193548387096\n",
      "<=50K Thailand\n",
      "42.86666666666667\n",
      "<=50K Trinadad&Tobago\n",
      "37.05882352941177\n",
      "<=50K United-States\n",
      "38.79912723305605\n",
      "<=50K Vietnam\n",
      "37.193548387096776\n",
      "<=50K Yugoslavia\n",
      "41.6\n",
      ">50K ?\n",
      "45.54794520547945\n",
      ">50K Cambodia\n",
      "40.0\n",
      ">50K Canada\n",
      "45.64102564102564\n",
      ">50K China\n",
      "38.9\n",
      ">50K Columbia\n",
      "50.0\n",
      ">50K Cuba\n",
      "42.44\n",
      ">50K Dominican-Republic\n",
      "47.0\n",
      ">50K Ecuador\n",
      "48.75\n",
      ">50K El-Salvador\n",
      "45.0\n",
      ">50K England\n",
      "44.53333333333333\n",
      ">50K France\n",
      "50.75\n",
      ">50K Germany\n",
      "44.97727272727273\n",
      ">50K Greece\n",
      "50.625\n",
      ">50K Guatemala\n",
      "36.666666666666664\n",
      ">50K Haiti\n",
      "42.75\n",
      ">50K Honduras\n",
      "60.0\n",
      ">50K Hong\n",
      "45.0\n",
      ">50K Hungary\n",
      "50.0\n",
      ">50K India\n",
      "46.475\n",
      ">50K Iran\n",
      "47.5\n",
      ">50K Ireland\n",
      "48.0\n",
      ">50K Italy\n",
      "45.4\n",
      ">50K Jamaica\n",
      "41.1\n",
      ">50K Japan\n",
      "47.958333333333336\n",
      ">50K Laos\n",
      "40.0\n",
      ">50K Mexico\n",
      "46.57575757575758\n",
      ">50K Nicaragua\n",
      "37.5\n",
      ">50K Peru\n",
      "40.0\n",
      ">50K Philippines\n",
      "43.032786885245905\n",
      ">50K Poland\n",
      "39.0\n",
      ">50K Portugal\n",
      "41.5\n",
      ">50K Puerto-Rico\n",
      "39.416666666666664\n",
      ">50K Scotland\n",
      "46.666666666666664\n",
      ">50K South\n",
      "51.4375\n",
      ">50K Taiwan\n",
      "46.8\n",
      ">50K Thailand\n",
      "58.333333333333336\n",
      ">50K Trinadad&Tobago\n",
      "40.0\n",
      ">50K United-States\n",
      "45.50536884674383\n",
      ">50K Vietnam\n",
      "39.2\n",
      ">50K Yugoslavia\n",
      "49.5\n"
     ]
    }
   ],
   "source": [
    "for (salary,native_country), sub_df in data.groupby(['salary','native-country']):\n",
    "    print(salary, native_country)\n",
    "    print(sub_df['hours-per-week'].mean())"
   ]
  },
  {
   "cell_type": "code",
   "execution_count": null,
   "id": "42fce5b9",
   "metadata": {},
   "outputs": [],
   "source": []
  }
 ],
 "metadata": {
  "kernelspec": {
   "display_name": "Python 3 (ipykernel)",
   "language": "python",
   "name": "python3"
  },
  "language_info": {
   "codemirror_mode": {
    "name": "ipython",
    "version": 3
   },
   "file_extension": ".py",
   "mimetype": "text/x-python",
   "name": "python",
   "nbconvert_exporter": "python",
   "pygments_lexer": "ipython3",
   "version": "3.11.4"
  }
 },
 "nbformat": 4,
 "nbformat_minor": 5
}
